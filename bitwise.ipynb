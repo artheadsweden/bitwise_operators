{
 "cells": [
  {
   "cell_type": "markdown",
   "metadata": {},
   "source": [
    "## Bitvisa opperationer i Python\n",
    "Det finns många tillfällen där vi vill arbeta med de enskilda bitarna i en variabel. För att kunna göra det så har vi till vårt förfogande de bitvisa operatorerna. Dessa är:\n",
    "\n",
    "| Operator  | Namn  | Funktion  |\n",
    "|---|---|---|\n",
    "| & | AND |Logiskt OCH   |\n",
    "| \\| | OR  |Logiskt ELLER   |\n",
    "| ^ | XOR  |Exlusivt ELLER   |\n",
    "| ~ | NOT  |Invertera alla bitar   |\n",
    "| << | Vänster skift  |Flyttar alla bitar n steg åt vänster, fyller på med nollor   |\n",
    "| >> | Höger skift  |Flyttar alla bitar n steg åt höger, fyller på med nollor   |\n"
   ]
  },
  {
   "cell_type": "markdown",
   "metadata": {},
   "source": [
    "Innan vi kan förstå hur dessa operatorer fungerar måste vi bekanta oss med två andra saker, det binära talsystemet och hur en byte ser ut och fungerar."
   ]
  },
  {
   "cell_type": "markdown",
   "metadata": {},
   "source": [
    "### Det binära talsystemet\n",
    "Det binära talsystemet har talbasen 2, istället för basen 10 som vi vanligtvis använder. När vi räknar med våra 10 siffror blir resultatet fölande:\n",
    "\n",
    "0\n",
    "1\n",
    "2\n",
    "3\n",
    "4\n",
    "5\n",
    "6\n",
    "7\n",
    "8\n",
    "9\n",
    "\n",
    "Nu har vi slut på siffror, så vad gör vi? Jo vi börjar om på 0, men sätter en etta framför:\n",
    "\n",
    "10\n",
    "11\n",
    "osv\n",
    "\n",
    "När vi arbetar med det binära talsystemet gör vi samma sak, med den enda skillnaden att vi har två siffror istället för 10, 0 och 1\n",
    "\n",
    "0\n",
    "1\n",
    "\n",
    "Nu har vi slut på siffror så vi börjar om och sätter en etta före\n",
    "\n",
    "10\n",
    "11\n",
    "\n",
    "Samma sak upprepas nu\n",
    "\n",
    "100\n",
    "101\n",
    "110\n",
    "111\n",
    "\n",
    "och så håller vi på så."
   ]
  },
  {
   "cell_type": "markdown",
   "metadata": {},
   "source": [
    "### En byte\n",
    "En bit är den minsta enheten vi kan jobba med i en dator och den representerar antingen en nolla eller en etta.\n",
    "\n",
    "Bitarna klumpas ihop i grupper om åtta, och kallas då en byte. Åtta bitar kan nu tillsammans bilda ett större tal.\n",
    "\n",
    "För att öka läsbarheten brukar man skriva en byte i två grupperingar, med fyra bitar i varje. Detta är alltså inget datorn gör internt utan bara något vi gör för att det skall bli enklare att se vilken bit som är vilken. En byte kan då representeras så här:\n",
    "\n",
    "1011 0110\n",
    "\n",
    "Om vi tittar på en byte så kan vi tänka oss att varje position representerar ett decimalt värde. En etta på motsvarande plats betyder att detta värde är en del av det tal som byten representerar och en nolla att det inte är det.\n",
    "\n",
    "Då ser samma byte som ovan ut så här:\n",
    "\n",
    "| 128 | 64 | 32 | 16 | 8 | 4 | 2 | 1 |\n",
    "|---|---|---|---|---|---|---|---|\n",
    "| 1 | 0 | 1 | 1 | 0 | 1 | 1 | 0 | "
   ]
  },
  {
   "cell_type": "markdown",
   "metadata": {},
   "source": [
    "Vi ser att vi har ettor vid 128, 32, 16, 4 och 2. Denna byte representerar alltså talet 128 + 32 + 16 + 4 + 2 som är 182.\n",
    "\n",
    "Vi kan också konstatera att alla udda tal måste ha en etta längst till höger (i rutan som represeterar värdet 1) eftersom det är det enda udda värdet som vi har. Detta kommer väl tillhands i nästa avsnitt."
   ]
  },
  {
   "cell_type": "markdown",
   "metadata": {},
   "source": [
    "### Logiskt OCH\n",
    "Vi kan jämföra två bytes med de logiska operatorerna AND (&) och OR (\\|).\n",
    "\n",
    "Om vi tittar på AND först så jämför den två bytes bit för bit. Resutatet kommer att bli en ny byte, som har en etta på alla platser där de två ursprungliga bytsen hadde en etta, annars kommer den att ha en nolla på den platsen. Vi tar ett exempel för att förtydliga.\n",
    "\n",
    "Vi börjar med samma byte som vi hade tidigare:\n",
    "\n",
    "| 128 | 64 | 32 | 16 | 8 | 4 | 2 | 1 |\n",
    "|---|---|---|---|---|---|---|---|\n",
    "| 1 | 0 | 1 | 1 | 0 | 1 | 1 | 0 | \n",
    "\n",
    "Sen tar vi en annan byte som kanske ser ut så här:\n",
    "\n",
    "| 128 | 64 | 32 | 16 | 8 | 4 | 2 | 1 |\n",
    "|---|---|---|---|---|---|---|---|\n",
    "| 0 | 0 | 1 | 1 | 1 | 0 | 0 | 0 | \n",
    "\n",
    "Om vi nu utför ett bitvis OCH på dessa två så kommer vi att få en ny byte som har en etta på alla platser där de båda har en etta. Om bara en eller ingen av de två har en etta på den här platsen blir resutatet en nolla.\n",
    "\n",
    "| 128 | 64 | 32 | 16 | 8 | 4 | 2 | 1 |\n",
    "|---|---|---|---|---|---|---|---|\n",
    "| 1 | 0 | 1 | 1 | 0 | 1 | 1 | 0 | \n",
    "| 0 | 0 | 1 | 1 | 1 | 0 | 0 | 0 | \n",
    "| F | F | S | S | F | F | F | F | \n",
    "\n",
    "F och S i tabellen ovan indikerar om resultatet blir sant eller falsk för respektive bit-par.\n",
    "\n",
    "Resultatet blir nu en byte som har ett på varje position som är markerad med ett S, alltså:\n",
    "\n",
    "| 128 | 64 | 32 | 16 | 8 | 4 | 2 | 1 |\n",
    "|---|---|---|---|---|---|---|---|\n",
    "| 0 | 0 | 1 | 1 | 0 | 0 | 0 | 0 | "
   ]
  },
  {
   "cell_type": "markdown",
   "metadata": {},
   "source": [
    "Vi skulle nu kunna använda detta för att kontrollera om en viss bit är satt (att den är satt betyder att den har värdet 1) i en byte.\n",
    "\n",
    "Om vi tänker oss följande. Vi har en variabel som har värdet 13 och vill kolla om det är ett udda eller jämnt tal, då vet vi att om det är ett udda tal så måste det finnas en etta i den högraste biten. Annars är det ett jämnt tal. \n",
    "\n",
    "13 binärt blir\n",
    "\n",
    "| 128 | 64 | 32 | 16 | 8 | 4 | 2 | 1 |\n",
    "|---|---|---|---|---|---|---|---|\n",
    "| 0 | 0 | 0 | 0 | 1 | 1 | 0 | 1 | "
   ]
  },
  {
   "cell_type": "markdown",
   "metadata": {},
   "source": [
    "Om vi nu vill kolla om den bit som representerar 1 är satt eller inte så kan vi göra ett binärt AND med en byte där vi vet att den är det, förslagsvis en byte som representerar värdet 1.\n",
    "\n",
    "| 128 | 64 | 32 | 16 | 8 | 4 | 2 | 1 |\n",
    "|---|---|---|---|---|---|---|---|\n",
    "| 0 | 0 | 0 | 0 | 1 | 1 | 0 | 1 | \n",
    "| 0 | 0 | 0 | 0 | 0 | 0 | 0 | 1 | \n",
    "| F | F | F | F | F | F | F | S | \n",
    "\n",
    "Blir den resulterande byten 1 så är det ett udda tal och blir den 0 så är det ett jämnt tal."
   ]
  },
  {
   "cell_type": "markdown",
   "metadata": {},
   "source": [
    "I detta fallet blir det ett, 13 är alltså ett udda tal. \n",
    "\n",
    "Låt oss kolla detta i kod."
   ]
  },
  {
   "cell_type": "code",
   "execution_count": 23,
   "metadata": {},
   "outputs": [
    {
     "name": "stdout",
     "output_type": "stream",
     "text": [
      "1\n"
     ]
    }
   ],
   "source": [
    "value = 13\n",
    "\n",
    "result = value & 1\n",
    "\n",
    "print(result)"
   ]
  },
  {
   "cell_type": "markdown",
   "metadata": {},
   "source": [
    "Provar vi nu samma sak med ett jämnt tal så ser vi att resultatet blir 0."
   ]
  },
  {
   "cell_type": "code",
   "execution_count": 24,
   "metadata": {},
   "outputs": [
    {
     "name": "stdout",
     "output_type": "stream",
     "text": [
      "0\n"
     ]
    }
   ],
   "source": [
    "value = 12\n",
    "\n",
    "result = value & 1\n",
    "\n",
    "print(result)"
   ]
  },
  {
   "cell_type": "markdown",
   "metadata": {},
   "source": [
    "Vi kan nu använda oss av det faktum att 0 betraktas som falskt i en vanlig if-sats och att alla andra värden är sant."
   ]
  },
  {
   "cell_type": "code",
   "execution_count": 25,
   "metadata": {},
   "outputs": [
    {
     "name": "stdout",
     "output_type": "stream",
     "text": [
      "This is an odd value\n"
     ]
    }
   ],
   "source": [
    "value = 13\n",
    "\n",
    "if value & 1:\n",
    "    print('This is an odd value')\n",
    "else:\n",
    "    print('This value is even')"
   ]
  },
  {
   "cell_type": "markdown",
   "metadata": {},
   "source": [
    "### Logiskt ELLER\n",
    "Logiskt eller fungerar precis på samma vis som logiskt OCH, med en skillnad. Resultatet blir 1 och en eller båda bitarna som jämförs är 1. Så ett ELLER på de två bytes vi såg tidigare skulle resultera i följande:\n",
    "\n",
    "| 128 | 64 | 32 | 16 | 8 | 4 | 2 | 1 |\n",
    "|---|---|---|---|---|---|---|---|\n",
    "| 1 | 0 | 1 | 1 | 0 | 1 | 1 | 0 | \n",
    "| 0 | 0 | 1 | 1 | 1 | 0 | 0 | 0 | \n",
    "| S | F | S | S | S| S | S | F | \n",
    "\n",
    "Vilket då ger oss följande byte:\n",
    "\n",
    "1011 1110\n",
    "\n",
    "Vi kan alltså använda denna operator för att kolla om en eller båda bitarna är satta.\n",
    "\n",
    "I kod skulle det se ut så här:"
   ]
  },
  {
   "cell_type": "code",
   "execution_count": 26,
   "metadata": {},
   "outputs": [
    {
     "name": "stdout",
     "output_type": "stream",
     "text": [
      "190\n"
     ]
    }
   ],
   "source": [
    "value = 182\n",
    "result =  value | 56\n",
    "print(result)"
   ]
  },
  {
   "cell_type": "markdown",
   "metadata": {},
   "source": [
    "Vi ser att vi får 190 vilket är 1011 1110 binärt."
   ]
  },
  {
   "cell_type": "markdown",
   "metadata": {},
   "source": [
    "### Exlusivt ELLER\n",
    "Exlusivt eller, även kallat XOR, fungerar som OR och AND, men för att resultatet skall bli 1 för en bit så måste de bitar som jämförs vara en av varje. Så om vi har 1 i den ena byten på en plats och 0 på samma plats i vår andra byte så blir resultatet 1. I alla andra fall blir resultatet 0.\n",
    "\n",
    "Vad kan man då använda XOR til? Faktum är att den är väldigt användbar eftersom den har vissa unika egenskaper. Låt oss kolla ett exempel.\n",
    "\n",
    "Låt säga att vi vill representera bokstaven j i en byte. I ASCII-tabellen har lilla j värdet 106. \n",
    "Binärt blir 106 0110 1010.\n",
    "\n",
    "Så det är vårt ena värde. Sen kan vi ta en annan bokstav, säg lilla u som i ASCII-tabellen har värdet 117.\n",
    "\n",
    "Binärt blir det 0111 0101.\n",
    "\n",
    "Låt oss göra en XOR-operation på dessa två bytes.\n",
    "\n",
    "| 128 | 64 | 32 | 16 | 8 | 4 | 2 | 1 | | |\n",
    "|---|---|---|---|---|---|---|---|---|---|\n",
    "| 0 | 1 | 1 | 0 | 1 | 0 | 1 | 0 | -> | j | \n",
    "| 0 | 1 | 1 | 1 | 0 | 1 | 0 | 1 | -> | u |\n",
    "| F | F | F | S | S| S | S | S | "
   ]
  },
  {
   "cell_type": "markdown",
   "metadata": {},
   "source": [
    "Vi ser nu att resultatet blir 0001 1111.\n",
    "\n",
    "Men vad händer om vi tar detta värde och gör ett XOR med den byte som represeterar vårt u?\n",
    "\n",
    "Jo vi får detta:\n",
    "| 128 | 64 | 32 | 16 | 8 | 4 | 2 | 1 | | |\n",
    "|---|---|---|---|---|---|---|---|---|---|\n",
    "| 0 | 0 | 0 | 1 | 1 | 1 | 1 | 1 |  |  | \n",
    "| 0 | 1 | 1 | 1 | 0 | 1 | 0 | 1 | -> | u |\n",
    "| F | S | S | F | S| F | S | F | ||"
   ]
  },
  {
   "cell_type": "markdown",
   "metadata": {},
   "source": [
    "Resultatet blir alltså 0110 1010, eller 106 som råkade representera lilla j. Så vi fick tillbaka vårt ursprungliga j igen. "
   ]
  },
  {
   "cell_type": "markdown",
   "metadata": {},
   "source": [
    "Detta gör att vi kan använda detta för en enkel form av kryptering. I vårt lilla exempel skulle j vara det vi vill kryptera och u skulle vara vårt lösenord. 0001 1111, eller 31 decimalt blir vårt krypterade meddelande.\n",
    "\n",
    "Nu är XOR i sig själv inte en jättesäker krypteringsmetod, men den används som en del av moderna avancerade krypteringsalgoritmer.\n",
    "\n",
    "Vill vi se detta i action så blir det så här. Vi använder här funktionen ord() för att få fram ett teckens ASCII-nummer och functionen chr() för att få fram tecknet från ett ASCII-nummer."
   ]
  },
  {
   "cell_type": "code",
   "execution_count": 27,
   "metadata": {},
   "outputs": [
    {
     "name": "stdout",
     "output_type": "stream",
     "text": [
      "The encrypted value is 31\n",
      "The decrypted message is j\n"
     ]
    }
   ],
   "source": [
    "clear_text = 'j'\n",
    "password = 'u'\n",
    "\n",
    "# Encrypt with XOR\n",
    "result = ord(clear_text) ^ ord(password)\n",
    "\n",
    "print(f'The encrypted value is {result}')\n",
    "\n",
    "# Decrypt with XOR\n",
    "\n",
    "decrypted = result ^ ord(password)\n",
    "\n",
    "print(f'The decrypted message is {chr(decrypted)}')"
   ]
  },
  {
   "cell_type": "markdown",
   "metadata": {},
   "source": [
    "Ett enkelt krypteringsprogram i Python som använder XOR skulle kunna se ut så här:"
   ]
  },
  {
   "cell_type": "code",
   "execution_count": 28,
   "metadata": {},
   "outputs": [
    {
     "name": "stdout",
     "output_type": "stream",
     "text": [
      "Encrypted data is [39, 13, 10, 1, 69, 29, 0, 69, 2, 82, 22, 17, 16, 23, 6, 6, 69, 25, 22, 22, 16, 19, 2, 17]\n",
      "This is a secret message\n"
     ]
    }
   ],
   "source": [
    "from getpass import getpass \n",
    "\n",
    "clear_text = input(\"Enter text to be encrypted: \")\n",
    "password = getpass()\n",
    "\n",
    "password = list(password)\n",
    "\n",
    "# Encrypt\n",
    "encrypted = []\n",
    "for i, character in enumerate(clear_text):\n",
    "    encrypted.append(ord(character) ^ ord(password[i % len(password)]))\n",
    "\n",
    "print(f'Encrypted data is {encrypted}')\n",
    "\n",
    "password = getpass()\n",
    "\n",
    "password = list(password)\n",
    "\n",
    "# Decrypt\n",
    "decrypted_message = []\n",
    "for i, cipher_value in enumerate(encrypted):\n",
    "    decrypted_message.append(chr(cipher_value ^ ord(password[i % len(password)])))\n",
    "decrypted_message = ''.join(decrypted_message)\n",
    "print(decrypted_message)"
   ]
  },
  {
   "cell_type": "markdown",
   "metadata": {},
   "source": [
    "Notera att om du vill köra detta programmet så funkar det bäst att kopiera koden till en vanlig editor och köra det där."
   ]
  },
  {
   "cell_type": "markdown",
   "metadata": {},
   "source": [
    "### Negation\n",
    "Negation betyder helt enkelt att alla bitar som är 1 blir 0 och vice versa. Enklast är kanske att bara se detta i kod."
   ]
  },
  {
   "cell_type": "code",
   "execution_count": 29,
   "metadata": {},
   "outputs": [
    {
     "name": "stdout",
     "output_type": "stream",
     "text": [
      "-124\n",
      "123\n"
     ]
    }
   ],
   "source": [
    "value = 123\n",
    "new_value = ~value\n",
    "\n",
    "print(new_value)\n",
    "\n",
    "value = ~new_value\n",
    "print(value)\n",
    "\n"
   ]
  },
  {
   "cell_type": "markdown",
   "metadata": {},
   "source": [
    "Vi ser här att det negerade värdet av 123 blir -124. Anledningen till att det blir ett negativt tal handlar om något som heter tvåkomplementsmetoden och som är det som används för att representera negativa tal. Vill du lära dig mer om den så kan du antingen läsa om den i din väns bok, eller läsa denna korta beskrivning.\n",
    "\n",
    "#### Tvåkoplementmetoden eller tvåkoplementformen\n",
    "För att kunna representera negativa tal så låter vi den vänstra biten, kallas också den mest signifikanta biten, ha värdet 1 för ett negativt tal och 0 för ett positivt. Om vi använder denna metoden (viklet datorn gör) för att representera tal så ser positionernas värden i en byte lite annorlunda ut.\n",
    "\n",
    "| -128 | 64 | 32 | 16 | 8 | 4 | 2 | 1 | \n",
    "|---|---|---|---|---|---|---|---|\n",
    "| 0 | 0 | 0 | 0 | 0 | 0 | 0 | 0 |\n",
    "\n",
    "Vi ser nu att den mest signifikanta biten inte längre representerar 128, utan -128.\n",
    "\n",
    "Om vi tittar på talet vi negerade i exemplet tidigare så får vi följande:\n",
    "\n",
    "Vi började med talet 123, vilket är 0111 1011 binärt.\n",
    "Vi negerade detta och fick då det binära talet 1000 0100.\n",
    "\n",
    "När vi skrev ut det så fick vi värdet -124. Hur gick detta till. \n",
    "\n",
    "Vi ser att vi har en etta på platsen för -128. Detta är alltså ett negativt tal. Vi har även en etta på platsen för 4. Adderar vi ihop dessa (-128 + 4) så får vi -124. Vi ser också att om vi använder oss av denna metod så ändras också omfånget för vilka tal vi kan representera. När vi bara körde med positiva tal var det största talet vi kunde ha:\n",
    "\n",
    "1111 1111, vilket är 255\n",
    "\n",
    "Om nu den mest signifikanta biten skall användas för att indikera positiva eller negativa tal så återstår 7 bitar och det största talet vi kan ha är 127.\n",
    "\n",
    "Det minsta talet vi kan representera blir då -128, vilket binärt blir 1000 000 eftersom -128 minus inget är -128.\n",
    "\n",
    "Det intressanta är att om vi vill representera -1 så blir det\n",
    "\n",
    "1111 1111\n",
    "\n",
    "-128 + 64 + 32 + 16 + 8 + 4 + 2 + 1\n",
    "\n",
    "vilket blir -1."
   ]
  },
  {
   "cell_type": "markdown",
   "metadata": {},
   "source": [
    "### Bitvis skiftning\n",
    "Vi kan också flytta alla nollor och ettor ett visst antal steg antingen åt höger eller åt vänster. Detta gör vi med skiftoperatorerna << och >>. Den första skiftar bitarna åt vänster, den andra åt höger. När vi flyttar alla bitar ett steg kommer en bit att \"falla ut\" och på den andra sidan kommer en nolla att stoppas in. Om vi har denna byte \n",
    "\n",
    "| -128 | 64 | 32 | 16 | 8 | 4 | 2 | 1 | \n",
    "|---|---|---|---|---|---|---|---|\n",
    "| 0 | 1 | 0 | 0 | 0 | 1 | 0 | 1 |\n",
    "\n",
    "och ckiftar den ett steg åt höger så kommer vi att få \n",
    "\n",
    "\n",
    "| -128 | 64 | 32 | 16 | 8 | 4 | 2 | 1 | \n",
    "|---|---|---|---|---|---|---|---|\n",
    "| 0 | 0 | 1 | 0 | 0 | 0 | 1 | 0 |\n",
    "\n",
    "Vi ser att den etta som stod längst till höger faller bort, att alla andra bitar flyttat sig ett steg åt höger och att vi har stoppat in en nolla längst till vänster.\n",
    "\n",
    "Syntaxen för att skifta är\n",
    "\n",
    "value = value >> 1\n",
    "\n",
    "Detta flyttar alla bitar ett steg åt höger och lagrar det nya värdet i value igen.\n",
    "\n",
    "value = value >> 3\n",
    "\n",
    "gör samma sak men flyttar bitarna tre steg.\n",
    "\n",
    "Låt oss kolla detta i kod"
   ]
  },
  {
   "cell_type": "code",
   "execution_count": 30,
   "metadata": {},
   "outputs": [
    {
     "name": "stdout",
     "output_type": "stream",
     "text": [
      "32\n"
     ]
    }
   ],
   "source": [
    "value = 64\n",
    "value = value >> 1\n",
    "print(value)"
   ]
  },
  {
   "cell_type": "markdown",
   "metadata": {},
   "source": [
    "Vi ser att biten som först stod på platsen som representerar 64 nu flyttat ett steg och nu står på platsen som reprsenterar 32.\n",
    "\n",
    "Vad kan vi då använda detta till? Ett exempel är om vi vill kolla hur ett decimalt tal representeras binärt. Vi kan då skifta bitarna steg för steg och kolla den högraste biten (som förövrigt brukar kallas den minst signifikanta biten) mot 1. Funkar fint, förutom att det binära talet vi får ut blir baklänges.\n",
    "\n",
    "Vi kan också lägga till att vi kan använda den mer kompakta formen\n",
    "\n",
    "value >>= 1\n",
    "\n",
    "istället för \n",
    "\n",
    "value = value >> 1"
   ]
  },
  {
   "cell_type": "code",
   "execution_count": 31,
   "metadata": {},
   "outputs": [
    {
     "name": "stdout",
     "output_type": "stream",
     "text": [
      "10011010"
     ]
    }
   ],
   "source": [
    "value = 89  # 89 binary is 0101 1001\n",
    "\n",
    "for _ in range(8):\n",
    "    if value & 1:\n",
    "        print('1', end='')\n",
    "    else:\n",
    "        print('0', end='')\n",
    "    value >>= 1"
   ]
  },
  {
   "cell_type": "markdown",
   "metadata": {},
   "source": [
    "Vi ser att vi fått rätt binärt tal, men att det är baklänges. Vi kan ju lösa detta genom att lagra resultatet i en sträng och skriva ut den baklänges när vi är klara."
   ]
  },
  {
   "cell_type": "code",
   "execution_count": 32,
   "metadata": {},
   "outputs": [
    {
     "name": "stdout",
     "output_type": "stream",
     "text": [
      "01011001\n"
     ]
    }
   ],
   "source": [
    "value = 89  # 89 binary is 0101 1001\n",
    "\n",
    "bin_str = ''\n",
    "for _ in range(8):\n",
    "    if value & 1:\n",
    "        bin_str += '1'\n",
    "    else:\n",
    "        bin_str += '0'\n",
    "    value >>= 1\n",
    "\n",
    "print(bin_str[::-1])"
   ]
  }
 ],
 "metadata": {
  "kernelspec": {
   "display_name": "Python 3.10.7 64-bit",
   "language": "python",
   "name": "python3"
  },
  "language_info": {
   "codemirror_mode": {
    "name": "ipython",
    "version": 3
   },
   "file_extension": ".py",
   "mimetype": "text/x-python",
   "name": "python",
   "nbconvert_exporter": "python",
   "pygments_lexer": "ipython3",
   "version": "3.10.7"
  },
  "orig_nbformat": 4,
  "vscode": {
   "interpreter": {
    "hash": "113757ca25a2ab5db327c7e599d5dc12969e59b5054e9deb83fb9d91078c9422"
   }
  }
 },
 "nbformat": 4,
 "nbformat_minor": 2
}
